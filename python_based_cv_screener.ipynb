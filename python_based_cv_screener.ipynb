{
 "cells": [
  {
   "cell_type": "code",
   "execution_count": 1,
   "id": "f6b28b63-1b19-4879-a807-4796487742c2",
   "metadata": {},
   "outputs": [
    {
     "name": "stdout",
     "output_type": "stream",
     "text": [
      "Requirement already satisfied: spacy in /opt/anaconda3/envs/LLM/lib/python3.13/site-packages (3.8.7)\n",
      "Requirement already satisfied: PyPDF2 in /opt/anaconda3/envs/LLM/lib/python3.13/site-packages (3.0.1)\n",
      "Collecting python-docx\n",
      "  Using cached python_docx-1.2.0-py3-none-any.whl.metadata (2.0 kB)\n",
      "Collecting textract\n",
      "  Using cached textract-1.6.5-py3-none-any.whl.metadata (2.5 kB)\n",
      "\u001b[33mWARNING: Ignoring version 1.6.5 of textract since it has invalid metadata:\n",
      "Requested textract from https://files.pythonhosted.org/packages/6b/3e/ac16b6bf28edf78296aea7d0cb416b49ed30282ac8c711662541015ee6f3/textract-1.6.5-py3-none-any.whl has invalid metadata: .* suffix can only be used with `==` or `!=` operators\n",
      "    extract-msg (<=0.29.*)\n",
      "                 ~~~~~~~^\n",
      "Please use pip<24.1 if you need to use this version.\u001b[0m\u001b[33m\n",
      "\u001b[0m  Using cached textract-1.6.4.tar.gz (17 kB)\n",
      "  Preparing metadata (setup.py) ... \u001b[?25lerror\n",
      "  \u001b[1;31merror\u001b[0m: \u001b[1msubprocess-exited-with-error\u001b[0m\n",
      "  \n",
      "  \u001b[31m×\u001b[0m \u001b[32mpython setup.py egg_info\u001b[0m did not run successfully.\n",
      "  \u001b[31m│\u001b[0m exit code: \u001b[1;36m1\u001b[0m\n",
      "  \u001b[31m╰─>\u001b[0m \u001b[31m[3 lines of output]\u001b[0m\n",
      "  \u001b[31m   \u001b[0m error in textract setup command: 'install_requires' must be a string or list of strings containing valid project/version requirement specifiers; .* suffix can only be used with `==` or `!=` operators\n",
      "  \u001b[31m   \u001b[0m     extract-msg<=0.29.*\n",
      "  \u001b[31m   \u001b[0m                ~~~~~~~^\n",
      "  \u001b[31m   \u001b[0m \u001b[31m[end of output]\u001b[0m\n",
      "  \n",
      "  \u001b[1;35mnote\u001b[0m: This error originates from a subprocess, and is likely not a problem with pip.\n",
      "\u001b[1;31merror\u001b[0m: \u001b[1mmetadata-generation-failed\u001b[0m\n",
      "\n",
      "\u001b[31m×\u001b[0m Encountered error while generating package metadata.\n",
      "\u001b[31m╰─>\u001b[0m See above for output.\n",
      "\n",
      "\u001b[1;35mnote\u001b[0m: This is an issue with the package mentioned above, not pip.\n",
      "\u001b[1;36mhint\u001b[0m: See above for details.\n",
      "\u001b[?25hCollecting en-core-web-sm==3.8.0\n",
      "  Downloading https://github.com/explosion/spacy-models/releases/download/en_core_web_sm-3.8.0/en_core_web_sm-3.8.0-py3-none-any.whl (12.8 MB)\n",
      "\u001b[2K     \u001b[90m━━━━━━━━━━━━━━━━━━━━━━━━━━━━━━━━━━━━━━━━\u001b[0m \u001b[32m12.8/12.8 MB\u001b[0m \u001b[31m15.4 MB/s\u001b[0m eta \u001b[36m0:00:00\u001b[0ma \u001b[36m0:00:01\u001b[0m\n",
      "\u001b[?25h\u001b[38;5;2m✔ Download and installation successful\u001b[0m\n",
      "You can now load the package via spacy.load('en_core_web_sm')\n"
     ]
    }
   ],
   "source": [
    "!pip install spacy PyPDF2 python-docx textract\n",
    "!python -m spacy download en_core_web_sm"
   ]
  },
  {
   "cell_type": "code",
   "execution_count": 2,
   "id": "a4ca58a1-aa71-4e79-9058-388fec42edd7",
   "metadata": {},
   "outputs": [
    {
     "name": "stdout",
     "output_type": "stream",
     "text": [
      "Collecting en-core-web-sm==3.8.0\n",
      "  Using cached https://github.com/explosion/spacy-models/releases/download/en_core_web_sm-3.8.0/en_core_web_sm-3.8.0-py3-none-any.whl (12.8 MB)\n",
      "\u001b[38;5;2m✔ Download and installation successful\u001b[0m\n",
      "You can now load the package via spacy.load('en_core_web_sm')\n"
     ]
    }
   ],
   "source": [
    "!python -m spacy download en_core_web_sm"
   ]
  },
  {
   "cell_type": "code",
   "execution_count": 3,
   "id": "90b5cead-55c9-45ce-9c35-41d48670c0e1",
   "metadata": {},
   "outputs": [
    {
     "name": "stdout",
     "output_type": "stream",
     "text": [
      "Requirement already satisfied: PyPDF2 in /opt/anaconda3/envs/LLM/lib/python3.13/site-packages (3.0.1)\n",
      "Requirement already satisfied: ipywidgets in /opt/anaconda3/envs/LLM/lib/python3.13/site-packages (8.1.5)\n",
      "Requirement already satisfied: comm>=0.1.3 in /opt/anaconda3/envs/LLM/lib/python3.13/site-packages (from ipywidgets) (0.2.1)\n",
      "Requirement already satisfied: ipython>=6.1.0 in /opt/anaconda3/envs/LLM/lib/python3.13/site-packages (from ipywidgets) (9.1.0)\n",
      "Requirement already satisfied: traitlets>=4.3.1 in /opt/anaconda3/envs/LLM/lib/python3.13/site-packages (from ipywidgets) (5.14.3)\n",
      "Requirement already satisfied: widgetsnbextension~=4.0.12 in /opt/anaconda3/envs/LLM/lib/python3.13/site-packages (from ipywidgets) (4.0.13)\n",
      "Requirement already satisfied: jupyterlab-widgets~=3.0.12 in /opt/anaconda3/envs/LLM/lib/python3.13/site-packages (from ipywidgets) (3.0.15)\n",
      "Requirement already satisfied: decorator in /opt/anaconda3/envs/LLM/lib/python3.13/site-packages (from ipython>=6.1.0->ipywidgets) (5.1.1)\n",
      "Requirement already satisfied: ipython-pygments-lexers in /opt/anaconda3/envs/LLM/lib/python3.13/site-packages (from ipython>=6.1.0->ipywidgets) (1.1.1)\n",
      "Requirement already satisfied: jedi>=0.16 in /opt/anaconda3/envs/LLM/lib/python3.13/site-packages (from ipython>=6.1.0->ipywidgets) (0.19.2)\n",
      "Requirement already satisfied: matplotlib-inline in /opt/anaconda3/envs/LLM/lib/python3.13/site-packages (from ipython>=6.1.0->ipywidgets) (0.1.6)\n",
      "Requirement already satisfied: pexpect>4.3 in /opt/anaconda3/envs/LLM/lib/python3.13/site-packages (from ipython>=6.1.0->ipywidgets) (4.9.0)\n",
      "Requirement already satisfied: prompt_toolkit<3.1.0,>=3.0.41 in /opt/anaconda3/envs/LLM/lib/python3.13/site-packages (from ipython>=6.1.0->ipywidgets) (3.0.43)\n",
      "Requirement already satisfied: pygments>=2.4.0 in /opt/anaconda3/envs/LLM/lib/python3.13/site-packages (from ipython>=6.1.0->ipywidgets) (2.19.1)\n",
      "Requirement already satisfied: stack_data in /opt/anaconda3/envs/LLM/lib/python3.13/site-packages (from ipython>=6.1.0->ipywidgets) (0.2.0)\n",
      "Requirement already satisfied: wcwidth in /opt/anaconda3/envs/LLM/lib/python3.13/site-packages (from prompt_toolkit<3.1.0,>=3.0.41->ipython>=6.1.0->ipywidgets) (0.2.13)\n",
      "Requirement already satisfied: parso<0.9.0,>=0.8.4 in /opt/anaconda3/envs/LLM/lib/python3.13/site-packages (from jedi>=0.16->ipython>=6.1.0->ipywidgets) (0.8.4)\n",
      "Requirement already satisfied: ptyprocess>=0.5 in /opt/anaconda3/envs/LLM/lib/python3.13/site-packages (from pexpect>4.3->ipython>=6.1.0->ipywidgets) (0.7.0)\n",
      "Requirement already satisfied: executing in /opt/anaconda3/envs/LLM/lib/python3.13/site-packages (from stack_data->ipython>=6.1.0->ipywidgets) (0.8.3)\n",
      "Requirement already satisfied: asttokens in /opt/anaconda3/envs/LLM/lib/python3.13/site-packages (from stack_data->ipython>=6.1.0->ipywidgets) (3.0.0)\n",
      "Requirement already satisfied: pure-eval in /opt/anaconda3/envs/LLM/lib/python3.13/site-packages (from stack_data->ipython>=6.1.0->ipywidgets) (0.2.2)\n"
     ]
    }
   ],
   "source": [
    "!pip install PyPDF2 ipywidgets "
   ]
  },
  {
   "cell_type": "code",
   "execution_count": 4,
   "id": "e110507b-f6b0-49cb-b743-2988a34c7c2c",
   "metadata": {},
   "outputs": [],
   "source": [
    "#all imports \n",
    "import re\n",
    "import spacy\n",
    "import os\n",
    "from PyPDF2 import PdfReader\n",
    "import ipywidgets as widgets\n",
    "from IPython.display import display\n",
    "import tempfile\n",
    "import os\n",
    "\n",
    "\n",
    "try:\n",
    "    import docx\n",
    "except ImportError:\n",
    "    docx = None\n",
    "\n",
    "try:\n",
    "    import textract\n",
    "except ImportError:\n",
    "    textract = None\n",
    "\n",
    "nlp = spacy.load(\"en_core_web_sm\")"
   ]
  },
  {
   "cell_type": "code",
   "execution_count": 5,
   "id": "a48e77ce-5bfe-418c-9f17-8b9e90e39ef4",
   "metadata": {},
   "outputs": [],
   "source": [
    "def extract_text_from_pdf(pdf_path):\n",
    "    text = \"\"\n",
    "    with open(pdf_path, \"rb\") as f:\n",
    "        reader = PdfReader(f)\n",
    "        for page in reader.pages:\n",
    "            page_text = page.extract_text()\n",
    "            if page_text:\n",
    "                text += page_text + \"\\n\"\n",
    "    return text.lower()\n",
    "\n",
    "def extract_text_from_docx(docx_path):\n",
    "    if docx is None:\n",
    "        raise ImportError(\"python-docx not installed. Install with `pip install python-docx`\")\n",
    "    doc = docx.Document(docx_path)\n",
    "    full_text = []\n",
    "    for para in doc.paragraphs:\n",
    "        full_text.append(para.text)\n",
    "    return \"\\n\".join(full_text).lower()\n",
    "\n",
    "def extract_text_from_doc(doc_path):\n",
    "    if textract is None:\n",
    "        raise ImportError(\"textract not installed. Install with `pip install textract`\")\n",
    "    text = textract.process(doc_path).decode('utf-8')\n",
    "    return text.lower()\n",
    "\n",
    "def extract_text_from_file(file_path):\n",
    "    ext = os.path.splitext(file_path)[1].lower()\n",
    "    if ext == \".pdf\":\n",
    "        return extract_text_from_pdf(file_path)\n",
    "    elif ext == \".docx\":\n",
    "        return extract_text_from_docx(file_path)\n",
    "    elif ext == \".doc\":\n",
    "        return extract_text_from_doc(file_path)\n",
    "    else:\n",
    "        raise ValueError(f\"Unsupported file extension: {ext}. Supported: pdf, docx, doc\")\n"
   ]
  },
  {
   "cell_type": "markdown",
   "id": "1d59b608-85da-4a9b-8d4f-ec6370714c28",
   "metadata": {},
   "source": [
    "### Dynamic skill extraction from JD text"
   ]
  },
  {
   "cell_type": "code",
   "execution_count": 6,
   "id": "17bd56a5-eafe-4b91-842c-f2047637b298",
   "metadata": {},
   "outputs": [],
   "source": [
    "def extract_skills_from_jd(jd_text):\n",
    "    doc = nlp(jd_text)\n",
    "\n",
    "    candidates = set()\n",
    "    for chunk in doc.noun_chunks:\n",
    "        chunk_text = chunk.text.lower().strip()\n",
    "        # Filter unwanted tokens early\n",
    "        if (len(chunk_text) > 2 and\n",
    "            not any(word in chunk_text for word in [\"team\", \"role\", \"experience\", \"knowledge\", \"security engineer\", \"years\", \"year\", \"remote\"]) and\n",
    "            not chunk_text.startswith((\"*\", \"#\")) and\n",
    "            not re.search(r'\\d', chunk_text) and\n",
    "            chunk_text.isalpha() or ' ' in chunk_text):\n",
    "            candidates.add(chunk_text)\n",
    "\n",
    "    for ent in doc.ents:\n",
    "        ent_text = ent.text.lower().strip()\n",
    "        if (len(ent_text) > 2 and\n",
    "            not ent_text.startswith((\"*\", \"#\")) and\n",
    "            not re.search(r'\\d', ent_text) and\n",
    "            ent_text.isalpha() or ' ' in ent_text):\n",
    "            candidates.add(ent_text)\n",
    "\n",
    "    proficiency_matches = re.findall(r'(?:proficiency|experience|knowledge) (?:in|with) ([\\w\\s,/.-]+)', jd_text.lower())\n",
    "    for match in proficiency_matches:\n",
    "        for skill in re.split(r'[,\\s/.-]+', match):\n",
    "            skill = skill.strip()\n",
    "            if (skill and len(skill) > 2 and\n",
    "                not skill.startswith((\"*\", \"#\")) and\n",
    "                not re.search(r'\\d', skill) and\n",
    "                (skill.isalpha() or ' ' in skill)):\n",
    "                candidates.add(skill)\n",
    "\n",
    "    stopwords = set([\n",
    "        \"team\", \"role\", \"experience\", \"knowledge\", \"security\", \"application\",\n",
    "        \"system\", \"systems\", \"product\", \"products\", \"and\", \"or\", \"the\", \"in\",\n",
    "        \"on\", \"with\", \"for\", \"of\", \"to\", \"be\", \"have\"\n",
    "    ])\n",
    "\n",
    "    filtered_skills = sorted([c for c in candidates if c not in stopwords])\n",
    "\n",
    "    return filtered_skills\n"
   ]
  },
  {
   "cell_type": "markdown",
   "id": "98056c95-a19d-47c0-8a1d-7580a1937ba9",
   "metadata": {},
   "source": [
    "### Extract criteria (skills, education, experience) from JD"
   ]
  },
  {
   "cell_type": "code",
   "execution_count": 7,
   "id": "76c98c1d-a425-4654-887c-d3b8a359fa65",
   "metadata": {},
   "outputs": [],
   "source": [
    "def extract_criteria_from_jd(jd_text):\n",
    "    jd_lower = jd_text.lower()\n",
    "\n",
    "    education_keywords = [\"bachelor\", \"b.s.\", \"bsc\", \"computer science\", \"information security\"]\n",
    "    education_required = [e for e in education_keywords if e in jd_lower]\n",
    "\n",
    "    exp_match = re.findall(r'(\\d+)\\s*-\\s*(\\d+)\\s+years', jd_lower)\n",
    "    if exp_match:\n",
    "        min_exp = int(exp_match[0][0])\n",
    "        max_exp = int(exp_match[0][1])\n",
    "    else:\n",
    "        single_exp = re.findall(r'(\\d+)\\s+years', jd_lower)\n",
    "        min_exp = int(single_exp[0]) if single_exp else 0\n",
    "        max_exp = 50\n",
    "\n",
    "    required_skills = extract_skills_from_jd(jd_text)\n",
    "\n",
    "    print(\"\\n JD Criteria Extracted:\")\n",
    "    print(f\"- Skills (top 15): {required_skills[:15]}\")\n",
    "    print(f\"- Education: {education_required}\")\n",
    "    print(f\"- Experience: {min_exp}–{max_exp} years\\n\")\n",
    "\n",
    "    return {\n",
    "        \"required_skills\": required_skills,\n",
    "        \"education_required\": education_required,\n",
    "        \"min_years_experience\": min_exp,\n",
    "        \"max_years_experience\": max_exp\n",
    "    }\n"
   ]
  },
  {
   "cell_type": "markdown",
   "id": "916536ce-bfd9-4a56-9e7f-cbae11783cc7",
   "metadata": {},
   "source": [
    "### Evaluate the CV"
   ]
  },
  {
   "cell_type": "code",
   "execution_count": 8,
   "id": "ffc2c539-d0d4-48c9-bef3-bf71d144dc8c",
   "metadata": {},
   "outputs": [],
   "source": [
    "def evaluate_cv(cv_text, criteria):\n",
    "    exp_years = extract_experience_years(cv_text)\n",
    "\n",
    "    education_matched = any(edu in cv_text for edu in criteria[\"education_required\"])\n",
    "\n",
    "    matched_skills = [skill for skill in criteria[\"required_skills\"] if skill in cv_text]\n",
    "\n",
    "    skill_score = len(matched_skills) / max(len(criteria[\"required_skills\"]), 1)\n",
    "    exp_score = 0\n",
    "    if exp_years >= criteria[\"min_years_experience\"]:\n",
    "        exp_score = 1 if exp_years <= criteria[\"max_years_experience\"] else 0.8\n",
    "\n",
    "    education_score = 1 if education_matched else 0\n",
    "\n",
    "    final_score = (skill_score * 0.6) + (exp_score * 0.3) + (education_score * 0.1)\n",
    "\n",
    "    print(\" CV Evaluation Results:\")\n",
    "    print(f\"Skills matched: {matched_skills}\")\n",
    "    print(f\"Skill score: {skill_score:.2f}\")\n",
    "    print(f\"Experience (years): {exp_years}\")\n",
    "    print(f\"Experience score: {exp_score:.2f}\")\n",
    "    print(f\"Education matched: {education_matched}\")\n",
    "    print(f\"Education score: {education_score}\")\n",
    "    print(f\"Final Score (%): {final_score * 100:.1f}\")\n",
    "\n",
    "    return final_score\n"
   ]
  },
  {
   "cell_type": "markdown",
   "id": "6d415bc2-e683-4416-a2b0-b2943c4472c0",
   "metadata": {},
   "source": [
    "### Main interactive flow to input JD and CV file path, then run evaluation"
   ]
  },
  {
   "cell_type": "code",
   "execution_count": 10,
   "id": "562065f2-b467-494c-8a54-7550db213662",
   "metadata": {},
   "outputs": [
    {
     "name": "stdout",
     "output_type": "stream",
     "text": [
      "Paste the Job Description text (finish input with empty line):\n"
     ]
    },
    {
     "name": "stdin",
     "output_type": "stream",
     "text": [
      " Job description • Lead and manage the end-to-end functioning of the SOC team, ensuring 24x7 coverage. • Oversee daily operations, incident response quality, and compliance with SLAs.Work closely with the SOC Manager to prepare periodic threat reports, executive dashboards, and compliance status updates. • Develop and maintain SOC playbooks, SOPs, and reporting dashboards. • Conduct regular review meetings, threat landscape briefings, and knowledge sharing sessions. • Act as point of contact for critical escalations, audits, and client reporting. • Coordinate with OEMs, security architects, and client IT teams for policy updates and improvements. • Train and mentor L1 and L2 SOC Analysts to build internal capabilities. • Ensure policies for endpoints, DLP, firewall rules, and SOAR playbooks are appropriately enabled and updated as per approved change management. • Assist in root cause analysis (RCA) for incidents and recommend corrective actions. • Document incidents, resolutions, and playbook adjustments for knowledge base updates.  Qualification & Skills: • Bachelor’s degree in Computer Science, IT, or related field (Master’s preferred). • 7–10 years of experience in SOC operations, including at least 2–3 years in a lead/managerial role. • Strong expertise in EDR, SIEM, SOAR, DLP, NDR, threat intelligence, and compliance frameworks. • Relevant certifications preferred:CISSP, CISM, CCSP, GIAC GCIA/GCIH, or other SOC Manager-specific certifications. • Excellent leadership, communication, and stakeholder management skills.\n",
      " \n"
     ]
    },
    {
     "name": "stdout",
     "output_type": "stream",
     "text": [
      "\n",
      "✅ JD Criteria Extracted:\n",
      "- Skills (top 15): ['24x7 coverage', '7–10 years', 'a lead/managerial role', 'approved change management', 'assist', 'at least 2–3 years', 'audits', 'ccsp', 'cism', 'cissp', 'client', 'client reporting', 'communication', 'compliance', 'compliance frameworks']\n",
      "- Education: ['bachelor', 'computer science']\n",
      "- Experience: 10–50 years\n",
      "\n",
      "\n",
      "Please upload the CV file (pdf, docx, doc):\n"
     ]
    },
    {
     "data": {
      "application/vnd.jupyter.widget-view+json": {
       "model_id": "4df1d05d60aa4d55b3e8a40c8ee0ae36",
       "version_major": 2,
       "version_minor": 0
      },
      "text/plain": [
       "FileUpload(value=(), accept='.pdf,.docx,.doc', description='Upload')"
      ]
     },
     "metadata": {},
     "output_type": "display_data"
    },
    {
     "data": {
      "application/vnd.jupyter.widget-view+json": {
       "model_id": "50b35cc898ed42d8aa514d3de19bfe6c",
       "version_major": 2,
       "version_minor": 0
      },
      "text/plain": [
       "Button(description='Process CV', style=ButtonStyle())"
      ]
     },
     "metadata": {},
     "output_type": "display_data"
    },
    {
     "data": {
      "application/vnd.jupyter.widget-view+json": {
       "model_id": "7c5b9531188741baaafb571d30cf8d6b",
       "version_major": 2,
       "version_minor": 0
      },
      "text/plain": [
       "Output()"
      ]
     },
     "metadata": {},
     "output_type": "display_data"
    }
   ],
   "source": [
    "import re\n",
    "\n",
    "def extract_experience_years(text):\n",
    "    \"\"\"\n",
    "    Extracts the maximum years of experience mentioned in the CV text.\n",
    "    Handles patterns like:\n",
    "    - '10+ years'\n",
    "    - 'over 10 years'\n",
    "    - '5 to 10 years'\n",
    "    - '7 yrs'\n",
    "    - '3 years of experience'\n",
    "    \"\"\"\n",
    "    patterns = [\n",
    "        r'(\\d+)\\s*\\+\\s*years?',            # 10+ years\n",
    "        r'over\\s+(\\d+)\\s*years?',          # over 10 years\n",
    "        r'(\\d+)\\s*[-to]+\\s*(\\d+)\\s*years?',# 5-10 years or 5 to 10 years\n",
    "        r'(\\d+)\\s*yrs?\\.?',                # 7 yrs, 7 yr, 7 yrs.\n",
    "        r'(\\d+)\\s*years?',                 # 3 years, 4 year\n",
    "    ]\n",
    "\n",
    "    text = text.lower()\n",
    "    years_found = []\n",
    "\n",
    "    for pattern in patterns:\n",
    "        matches = re.findall(pattern, text)\n",
    "        for match in matches:\n",
    "            if isinstance(match, tuple):\n",
    "                # For range matches like 5-10 years\n",
    "                nums = [int(num) for num in match if num.isdigit()]\n",
    "                if nums:\n",
    "                    years_found.append(max(nums))  # Use max of range\n",
    "            else:\n",
    "                if match.isdigit():\n",
    "                    years_found.append(int(match))\n",
    "\n",
    "    return max(years_found) if years_found else 0\n",
    "\n",
    "\n",
    "print(\"Paste the Job Description text (finish input with empty line):\")\n",
    "jd_lines = []\n",
    "while True:\n",
    "    line = input()\n",
    "    if line.strip() == \"\":\n",
    "        break\n",
    "    jd_lines.append(line)\n",
    "jd_text = \"\\n\".join(jd_lines)\n",
    "\n",
    "criteria = extract_criteria_from_jd(jd_text)\n",
    "\n",
    "print(\"\\nPlease upload the CV file (pdf, docx, doc):\")\n",
    "\n",
    "upload_widget = widgets.FileUpload(accept='.pdf,.docx,.doc', multiple=False)\n",
    "process_button = widgets.Button(description=\"Process CV\")\n",
    "output = widgets.Output()\n",
    "\n",
    "display(upload_widget, process_button, output)\n",
    "\n",
    "def on_button_clicked(b):\n",
    "    with output:\n",
    "        output.clear_output()\n",
    "        if len(upload_widget.value) == 0:\n",
    "            print(\"No file uploaded yet. Please upload a CV file first.\")\n",
    "            return\n",
    "\n",
    "        try:\n",
    "            # Newer ipywidgets: dict with metadata key\n",
    "            uploaded_file = list(upload_widget.value.values())[0]\n",
    "            filename = uploaded_file.get('metadata', {}).get('name')\n",
    "            content = uploaded_file['content']\n",
    "            if filename is None:\n",
    "                # fallback if metadata missing\n",
    "                filename = uploaded_file.get('name', 'uploaded_file')\n",
    "        except Exception:\n",
    "            # Older ipywidgets: might be a tuple/list of dicts\n",
    "            uploaded_file = upload_widget.value[0]\n",
    "            filename = uploaded_file.get('name', 'uploaded_file')\n",
    "            content = uploaded_file['content']\n",
    "\n",
    "        with tempfile.NamedTemporaryFile(delete=False, suffix=os.path.splitext(filename)[1]) as tmp_file:\n",
    "            tmp_file.write(content)\n",
    "            tmp_file_path = tmp_file.name\n",
    "\n",
    "        print(f\"\\nExtracting text from uploaded file: {filename} ...\")\n",
    "        try:\n",
    "            cv_text = extract_text_from_file(tmp_file_path)\n",
    "        except Exception as e:\n",
    "            print(f\"Error extracting CV text: {e}\")\n",
    "            return\n",
    "\n",
    "        evaluate_cv(cv_text, criteria)\n",
    "\n",
    "\n",
    "process_button.on_click(on_button_clicked)\n"
   ]
  }
 ],
 "metadata": {
  "kernelspec": {
   "display_name": "Python 3 (ipykernel)",
   "language": "python",
   "name": "python3"
  },
  "language_info": {
   "codemirror_mode": {
    "name": "ipython",
    "version": 3
   },
   "file_extension": ".py",
   "mimetype": "text/x-python",
   "name": "python",
   "nbconvert_exporter": "python",
   "pygments_lexer": "ipython3",
   "version": "3.13.5"
  }
 },
 "nbformat": 4,
 "nbformat_minor": 5
}
